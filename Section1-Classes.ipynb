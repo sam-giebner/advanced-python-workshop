{
 "cells": [
  {
   "cell_type": "markdown",
   "metadata": {},
   "source": [
    "# Section 1 - Classes\n",
    "Classes store states"
   ]
  },
  {
   "cell_type": "markdown",
   "metadata": {},
   "source": [
    "## What are the characteristics of a tree?\n",
    "- Species\n",
    "- Age\n",
    "- Height"
   ]
  },
  {
   "cell_type": "code",
   "execution_count": null,
   "metadata": {},
   "outputs": [],
   "source": [
    "class Tree:\n",
    "    \n",
    "    def __init__(self, species, age, height, diameter):\n",
    "    \n",
    "        self.species = species\n",
    "        self.age = age\n",
    "        self.height = height\n",
    "        self.diameter = diameter\n",
    "        \n",
    "        self.branches = self.age * 4"
   ]
  },
  {
   "cell_type": "markdown",
   "metadata": {},
   "source": [
    "## Let's build a birch tree"
   ]
  },
  {
   "cell_type": "code",
   "execution_count": null,
   "metadata": {},
   "outputs": [],
   "source": [
    "birch = Tree(\n",
    "    species = 'Birch',\n",
    "    age = 15,\n",
    "    height = 30,\n",
    "    diameter = 8)"
   ]
  },
  {
   "cell_type": "code",
   "execution_count": null,
   "metadata": {},
   "outputs": [
    {
     "data": {
      "text/plain": [
       "60"
      ]
     },
     "execution_count": 7,
     "metadata": {},
     "output_type": "execute_result"
    }
   ],
   "source": [
    "birch.branches"
   ]
  },
  {
   "cell_type": "markdown",
   "metadata": {},
   "source": []
  },
  {
   "cell_type": "code",
   "execution_count": null,
   "metadata": {},
   "outputs": [],
   "source": [
    "class Leaf:\n",
    "    def photosynthesis(self, sun, nutirents):\n",
    "\n",
    "        glucose_qty = 0\n",
    "\n",
    "        if sun and nutirents:\n",
    "\n",
    "            glucose_qty += 1\n",
    "            \n",
    "        return glucose_qty\n",
    "\n",
    "class DeciduousTree:\n",
    "    \n",
    "    def __init__(self, species, height, dbh, branches):\n",
    "    \n",
    "        self.species = species\n",
    "\n",
    "        self.height = 0\n",
    "        self.dbh = 0\n",
    "        self.leaves = []\n",
    "\n",
    "    def biology(self, sun, avg_low_temp):\n",
    "\n",
    "        if avg_low_temp > 32:\n",
    "\n",
    "            # Sap has thawed and is running\n",
    "            sap_running = True\n",
    "\n",
    "        else:\n",
    "\n",
    "            # Sap is frozen\n",
    "            sap_running = False\n",
    "\n",
    "        if sap_running:\n",
    "\n",
    "            # Start nurtient transportation\n",
    "            nutrient_transportation = True\n",
    "\n",
    "            # Grow leaves\n",
    "            for branch in range(self.branches):\n",
    "                self.leaves.append(Leaf())\n",
    "        else:\n",
    "\n",
    "            # Stop nutrient transportation\n",
    "            nutrient_transportation = False\n",
    "\n",
    "            # Drop leaves\n",
    "            self.leaves = []\n",
    "\n",
    "        for leaf in self.leaves():\n",
    "\n",
    "            glucose_produced += leaf.photosynthesis(\n",
    "                sun = sun,\n",
    "                nutrients = nutrient_transportation)\n",
    "\n",
    "        # Grow tree\n",
    "        if glucose_produced > 0:\n",
    "            self.height += glucose_produced * 0.75\n",
    "            self.dbh += glucose_produced * 0.25\n"
   ]
  },
  {
   "cell_type": "code",
   "execution_count": null,
   "metadata": {},
   "outputs": [],
   "source": []
  }
 ],
 "metadata": {
  "kernelspec": {
   "display_name": "ArcGISPro",
   "language": "Python",
   "name": "python3"
  },
  "language_info": {
   "file_extension": ".py",
   "name": "python",
   "version": "2.7.16"
  },
  "vscode": {
   "interpreter": {
    "hash": "c6af8bca03c7ecda58622b0648f8b91581761d93930784c975d3d1770aa9d022"
   }
  }
 },
 "nbformat": 4,
 "nbformat_minor": 2
}
