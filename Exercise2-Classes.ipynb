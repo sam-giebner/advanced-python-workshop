{
 "cells": [
  {
   "cell_type": "markdown",
   "metadata": {},
   "source": [
    "# Exercise 2: Classess\n",
    "## You have been asked to help manage the local school forest. Define a class that can be used to track the trees in the forest.\n",
    "### Requirements:\n",
    "1. Attributes:\n",
    "    - Species\n",
    "    - Age\n",
    "    - Height\n",
    "    - DBH (Diameter at breast height)\n",
    "    - Health\n",
    "    - Removal flag\n",
    "    - (Optional) Anything else interesting you can think of\n",
    "1. Methods:\n",
    "    - grow: Takes in number of years as a parameter and adjusts the height and DBH attributes accordingly. \n",
    "    - squirrel_population: Considers the tree's attributes and returns an estimate of the resident squirrel population. \n",
    "1. Instantiate 3 unique tree objects.\n",
    "\n",
    "### Remeber to use good coding practices!"
   ]
  },
  {
   "cell_type": "code",
   "execution_count": null,
   "metadata": {},
   "outputs": [],
   "source": []
  }
 ],
 "metadata": {
  "kernelspec": {
   "display_name": "ArcGISPro",
   "language": "Python",
   "name": "python3"
  },
  "language_info": {
   "file_extension": ".py",
   "name": "python",
   "version": "3"
  }
 },
 "nbformat": 4,
 "nbformat_minor": 2
}
