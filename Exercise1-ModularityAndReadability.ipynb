{
 "cells": [
  {
   "cell_type": "markdown",
   "metadata": {},
   "source": [
    "# Exercise 1: Increasing Modularity and Readability. \n",
    "\n",
    "## 1. Create a function that:\n",
    "  - Takes in a list of zip codes as a parameter.\n",
    "  - Takes in an address as a string parameter.\n",
    "  - Outputs:\n",
    "      - True - Address parameter contains a zip code found in the zip code list.\n",
    "      - False - Address paprameter does not contain a zip code found in zip code list.\n",
    "  - Uses appropriatly named objects (functions, variables, etc.).\n",
    "  - Uses guard clauses to reduce indentation levels.\n",
    "  - Optionally: \n",
    "      - Document the function using a doc string.\n",
    "      - Handle errors using try/except statements.\n",
    "      - Use a main function to control logic.\n",
    " \n",
    "## 2.  Execute the function using named variables\n",
    "\n",
    "### Hints:\n",
    "- 'my_list' - contains zip codes found in Beltrami County.\n",
    "- 'test' - contains Paul Bunyan's address as a string."
   ]
  },
  {
   "cell_type": "code",
   "execution_count": 14,
   "metadata": {},
   "outputs": [
    {
     "name": "stdout",
     "output_type": "stream",
     "text": [
      "Yes\n"
     ]
    }
   ],
   "source": [
    "x = '300 Bemidji Ave N, Bemidji, MN 56601'\n",
    "    \n",
    "my_list = [56601,56633,56630,56676,56725,56727,56678,56670,56667,56666,56663,56647,56650,56683,56685,56671,56687,56619]\n",
    "\n",
    "if len(x) > 5:\n",
    "\n",
    "    if x.count(' ') > 1:\n",
    "\n",
    "        if x.count(',') > 0:\n",
    "\n",
    "            c = x.split(' ')[-1]\n",
    "\n",
    "            if int(c) in my_list:\n",
    "\n",
    "                print('Yes')\n",
    "            \n",
    "else:\n",
    "    print('No')"
   ]
  }
 ],
 "metadata": {
  "kernelspec": {
   "display_name": "ArcGISPro",
   "language": "Python",
   "name": "python3"
  },
  "language_info": {
   "file_extension": ".py",
   "name": "python",
   "version": "3"
  },
  "vscode": {
   "interpreter": {
    "hash": "c6af8bca03c7ecda58622b0648f8b91581761d93930784c975d3d1770aa9d022"
   }
  }
 },
 "nbformat": 4,
 "nbformat_minor": 2
}
