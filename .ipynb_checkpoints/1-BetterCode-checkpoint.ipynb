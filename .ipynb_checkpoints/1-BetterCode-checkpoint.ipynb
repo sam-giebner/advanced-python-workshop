{
 "cells": [
  {
   "cell_type": "markdown",
   "metadata": {},
   "source": [
    "# Writting Better Code"
   ]
  },
  {
   "cell_type": "markdown",
   "metadata": {},
   "source": [
    "## Comments"
   ]
  },
  {
   "cell_type": "code",
   "execution_count": 2,
   "metadata": {},
   "outputs": [
    {
     "data": {
      "text/plain": [
       "\"\\nMultiline comment.\\nHere's the second line\\nHere's the third line.add()\\nSo many lines.\\n\""
      ]
     },
     "execution_count": 2,
     "metadata": {},
     "output_type": "execute_result"
    }
   ],
   "source": [
    "# Single line comment\n",
    "\n",
    "'''\n",
    "Multiline comment.\n",
    "Here's the second line\n",
    "Here's the third line.add()\n",
    "So many lines.\n",
    "'''"
   ]
  },
  {
   "cell_type": "markdown",
   "metadata": {},
   "source": [
    "### Doc strings"
   ]
  },
  {
   "cell_type": "code",
   "execution_count": 3,
   "metadata": {},
   "outputs": [],
   "source": [
    "# Bad\n",
    "def math_stuf(a, b):\n",
    "    return a/b\n",
    "\n",
    "# Better\n",
    "def math_stuf(a, b):\n",
    "    \"\"\"Divides two numbers and returns the quotient.\n",
    "    Args:\n",
    "        a (Int): Number to be divided.\n",
    "        denominator (Int): Number to devide by.\n",
    "\n",
    "    Returns:\n",
    "        b: The quotient of the inputs.\n",
    "    \"\"\"\n",
    "\n",
    "    return a/b"
   ]
  },
  {
   "cell_type": "markdown",
   "metadata": {},
   "source": [
    "### Appropriately named objects"
   ]
  },
  {
   "cell_type": "code",
   "execution_count": 4,
   "metadata": {},
   "outputs": [],
   "source": [
    "def divide(numerator, denominator):\n",
    "    \"\"\"Divides two numbers and returns the quotient.\n",
    "    Args:\n",
    "        numerator (Int): Number to be divided.\n",
    "        denominator (Int): Number to devide by.\n",
    "\n",
    "    Returns:\n",
    "        Float: The quotient of the inputs.\n",
    "    \"\"\"\n",
    "\n",
    "    return numerator/denominator"
   ]
  },
  {
   "cell_type": "markdown",
   "metadata": {},
   "source": [
    "### Named Variables"
   ]
  },
  {
   "cell_type": "code",
   "execution_count": 5,
   "metadata": {},
   "outputs": [
    {
     "data": {
      "text/plain": [
       "0.5"
      ]
     },
     "execution_count": 5,
     "metadata": {},
     "output_type": "execute_result"
    }
   ],
   "source": [
    "divide(numerator=1,\n",
    "    denominator=2)"
   ]
  },
  {
   "cell_type": "code",
   "execution_count": null,
   "metadata": {},
   "outputs": [],
   "source": []
  }
 ],
 "metadata": {
  "kernelspec": {
   "display_name": "ArcGISPro",
   "language": "Python",
   "name": "python3"
  },
  "language_info": {
   "file_extension": ".py",
   "name": "python",
   "version": "3"
  },
  "vscode": {
   "interpreter": {
    "hash": "c6af8bca03c7ecda58622b0648f8b91581761d93930784c975d3d1770aa9d022"
   }
  }
 },
 "nbformat": 4,
 "nbformat_minor": 2
}
