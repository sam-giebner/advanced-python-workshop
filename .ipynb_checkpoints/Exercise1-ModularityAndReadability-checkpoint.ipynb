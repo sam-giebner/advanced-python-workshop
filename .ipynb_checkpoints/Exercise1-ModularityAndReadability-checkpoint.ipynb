{
 "cells": [
  {
   "cell_type": "markdown",
   "metadata": {},
   "source": [
    "# Exercise 1: Increasing Modularity and Readability. \n",
    "\n",
    "## 1. Create a function that:\n",
    "  - Takes in a list of zip codes as a parameter.\n",
    "  - Takes in an address as a string parameter.\n",
    "  - Outputs:\n",
    "      - True - Address parameter contains a zip code found in the zip code list.\n",
    "      - False - Address paprameter does not contain a zip code found in zip code list.\n",
    "  - Uses appropriatly named objects (functions, variables, etc.).\n",
    "  - Uses guard clauses to reduce indentation levels.\n",
    "  - Optionally: \n",
    "      - Document the function using a doc string.\n",
    "      - Handle errors using try/except statements.\n",
    " \n",
    "## 2.  Execute the function using named variables\n",
    "\n",
    "### Hints:\n",
    "- 'my_list' - contains zip codes found in Beltrami County.\n",
    "- 'test' - contains Paul Bunyan's address as a string."
   ]
  },
  {
   "cell_type": "code",
   "execution_count": 14,
   "metadata": {},
   "outputs": [
    {
     "name": "stdout",
     "output_type": "stream",
     "text": [
      "Yes\n"
     ]
    }
   ],
   "source": [
    "x = '300 Bemidji Ave N, Bemidji, MN 56601'\n",
    "    \n",
    "my_list = [56601,56633,56630,56676,56725,56727,56678,56670,56667,56666,56663,56647,56650,56683,56685,56671,56687,56619]\n",
    "\n",
    "if len(x) > 5:\n",
    "\n",
    "    if x.count(' ') > 1:\n",
    "\n",
    "        if x.count(',') > 0:\n",
    "\n",
    "            c = x.split(' ')[-1]\n",
    "\n",
    "            if int(c) in my_list:\n",
    "\n",
    "                print('Yes')\n",
    "            \n",
    "else:\n",
    "    print('No')"
   ]
  },
  {
   "cell_type": "markdown",
   "metadata": {},
   "source": [
    "## Solution"
   ]
  },
  {
   "cell_type": "code",
   "execution_count": 13,
   "metadata": {},
   "outputs": [
    {
     "name": "stdout",
     "output_type": "stream",
     "text": [
      "True\n"
     ]
    }
   ],
   "source": [
    "def address_in_county(zip_codes, address):\n",
    "    \"\"\"\n",
    "    Determines if an address is in a county by parsing the \n",
    "    zip code from the address and checking to see if it is\n",
    "    contained in the list of zip codes\n",
    "    \n",
    "    Parameters:\n",
    "    zip_codes (list): Zip codes found in county.\n",
    "    address (string): Address to be tested.\n",
    "    \n",
    "    Returns:\n",
    "    (bool): True if address is in county, False if not.\n",
    "    \"\"\"\n",
    "    # Determine if address is long enough to contain a zip code\n",
    "    if len(address) < 5:\n",
    "        return False\n",
    "\n",
    "    # Determine address contains atleast 2 spaces  \n",
    "    if address.count(' ') < 1:\n",
    "        return False\n",
    "    \n",
    "    # Determine if address contains at least 1 comma\n",
    "    if address.count(',') < 1:\n",
    "        return False\n",
    "\n",
    "    # Parse zip code from address\n",
    "    zip_code = address.split(' ')[-1]\n",
    "    \n",
    "    try:\n",
    "        # Determines if zip code is in list of zip codes\n",
    "        return int(zip_code) in zip_codes\n",
    "\n",
    "    # If an error is encountered the error message is stored in the err variable\n",
    "    except Exception as err:\n",
    "        print(err)\n",
    "        return False\n",
    "\n",
    "if\n",
    "\n",
    "# Define list of zip codes found in Beltrami County\n",
    "beltrami_zip_codes = [56601,56633,56630,56676,56725,56727,56678,56670,56667,56666,56663,56647,56650,56683,56685,56671,56687,56619]      \n",
    "\n",
    "# Define address to be tested\n",
    "paul_bunyan_address = '300 Bemidji Ave N, Bemidji, MN 56601'\n",
    "\n",
    "\n",
    "print(address_in_county(\n",
    "    zip_codes = beltrami_zip_codes,\n",
    "    address = paul_bunyan_address))"
   ]
  }
 ],
 "metadata": {
  "kernelspec": {
   "display_name": "ArcGISPro",
   "language": "Python",
   "name": "python3"
  },
  "language_info": {
   "file_extension": ".py",
   "name": "python",
   "version": "3"
  },
  "vscode": {
   "interpreter": {
    "hash": "c6af8bca03c7ecda58622b0648f8b91581761d93930784c975d3d1770aa9d022"
   }
  }
 },
 "nbformat": 4,
 "nbformat_minor": 2
}
