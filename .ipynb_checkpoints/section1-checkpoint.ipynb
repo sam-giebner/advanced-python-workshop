{
 "cells": [
  {
   "cell_type": "markdown",
   "metadata": {},
   "source": [
    "# Advanced Python"
   ]
  },
  {
   "cell_type": "code",
   "execution_count": null,
   "metadata": {},
   "outputs": [],
   "source": [
    "import arcpy"
   ]
  }
 ],
 "metadata": {
  "kernelspec": {
   "display_name": "ArcGISPro",
   "language": "Python",
   "name": "python3"
  },
  "language_info": {
   "file_extension": ".py",
   "name": "python",
   "version": "3"
  },
  "vscode": {
   "interpreter": {
    "hash": "c6af8bca03c7ecda58622b0648f8b91581761d93930784c975d3d1770aa9d022"
   }
  }
 },
 "nbformat": 4,
 "nbformat_minor": 2
}
